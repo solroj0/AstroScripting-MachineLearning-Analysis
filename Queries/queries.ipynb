{
 "cells": [
  {
   "cell_type": "code",
   "execution_count": 11,
   "metadata": {},
   "outputs": [],
   "source": [
    "import pyvo as vo\n",
    "service = vo.dal.TAPService(\"http://dc.g-vo.org/tap\")\n",
    "\n"
   ]
  },
  {
   "cell_type": "code",
   "execution_count": 12,
   "metadata": {},
   "outputs": [
    {
     "data": {
      "text/plain": [
       "<DALResultsTable length=1>\n",
       "dataproduct_type dataproduct_subtype ... source_table\n",
       "                                     ...             \n",
       "     object             object       ...    object   \n",
       "---------------- ------------------- ... ------------\n",
       "           image                     ... ppakm31.maps"
      ]
     },
     "execution_count": 12,
     "metadata": {},
     "output_type": "execute_result"
    }
   ],
   "source": [
    "resultset = service.search(\"SELECT TOP 1 * FROM ivoa.obscore\")\n",
    "resultset"
   ]
  },
  {
   "cell_type": "code",
   "execution_count": 13,
   "metadata": {},
   "outputs": [],
   "source": [
    "row = resultset[0]\n",
    "column = resultset[\"dataproduct_type\"]"
   ]
  },
  {
   "cell_type": "code",
   "execution_count": 14,
   "metadata": {},
   "outputs": [
    {
     "name": "stdout",
     "output_type": "stream",
     "text": [
      "2\n"
     ]
    }
   ],
   "source": [
    "for row in resultset:\n",
    "  calib_level = row[\"calib_level\"]\n",
    "  print(calib_level)"
   ]
  },
  {
   "cell_type": "code",
   "execution_count": 15,
   "metadata": {},
   "outputs": [
    {
     "name": "stdout",
     "output_type": "stream",
     "text": [
      "ivo://archive.stsci.edu/caomtap\n",
      "ivo://astro.ucl.ac.uk/tap\n",
      "ivo://astron.nl/tap\n",
      "ivo://asu.cas.cz/tap\n",
      "ivo://au.csiro/atoavo/tap\n",
      "ivo://au.csiro/casda/tap\n",
      "ivo://bira-iasb/tap\n",
      "ivo://byu.arvo/tap\n",
      "ivo://cadc.nrc.ca/argus\n",
      "ivo://cefca/j-plus/j-plus-dr1\n",
      "ivo://cefca/j-plus/j-plus-dr2\n",
      "ivo://cefca/j-plus/j-plus-dr3\n",
      "ivo://cefca/minijpas/minij-pas-pdr201912\n",
      "ivo://chivo/tap\n",
      "ivo://eso.org/tap_obs\n",
      "ivo://fai.kz/tap\n",
      "ivo://fu-berlin.planet.hrsc/tap\n",
      "ivo://ia2.inaf.it/hosted/laurino2011/tap\n",
      "ivo://ia2.inaf.it/tap\n",
      "ivo://iap/tap\n",
      "ivo://jive.eu/tap\n",
      "ivo://jvo/alma\n",
      "ivo://jvo/isas/darts/akari/akari-irc_catalogue_allsky_astflux_1.0\n",
      "ivo://jvo/isas/darts/akari/akari-irc_spectrum_pointed_diffuseskypatch_1.0\n",
      "ivo://jvo/isas/darts/akari/akari-irc_spectrum_pointed_galpn_1.0\n",
      "ivo://jvo/isas/darts/akari/akari-irc_spectrum_pointed_slitlessmir_spectrum_1.0\n",
      "ivo://jvo/isas/darts/halca/halca_vsop_correlated_data\n",
      "ivo://jvo/isas/darts/halca/halca_vsop_survey_program_data\n",
      "ivo://jvo/isas/darts/hitomi/hitomaster_v1\n",
      "ivo://jvo/nobeyama\n",
      "ivo://jvo/subaru/spcam\n",
      "ivo://ksb-orb.dc/tap\n",
      "ivo://lam.cesam/tap\n",
      "ivo://nci.org.au/macho/tap\n",
      "ivo://nci.org.au/skymapper/tap\n",
      "ivo://nci.org.au/wigglez/tap\n",
      "ivo://org.gavo.dc/tap\n",
      "ivo://padc.obspm.astro/tap\n",
      "ivo://padc.obspm.he/tap\n",
      "ivo://purx/tap\n",
      "ivo://pvol/tap\n",
      "ivo://spectrum.iaa/tap\n",
      "ivo://ssdc/tap\n",
      "ivo://uni-heidelberg.de/gaia/tap\n",
      "ivo://voxastro.org/tap\n",
      "ivo://xcatdb/3xmmdr5/tap\n",
      "ivo://xcatdb/3xmmdr7/tap\n",
      "ivo://xcatdb/4xmm/tap\n"
     ]
    }
   ],
   "source": [
    "for service in vo.regsearch(datamodel=\"obscore\"):\n",
    "  print(service['ivoid']) "
   ]
  },
  {
   "cell_type": "code",
   "execution_count": null,
   "metadata": {},
   "outputs": [],
   "source": []
  }
 ],
 "metadata": {
  "kernelspec": {
   "display_name": "base",
   "language": "python",
   "name": "python3"
  },
  "language_info": {
   "codemirror_mode": {
    "name": "ipython",
    "version": 3
   },
   "file_extension": ".py",
   "mimetype": "text/x-python",
   "name": "python",
   "nbconvert_exporter": "python",
   "pygments_lexer": "ipython3",
   "version": "3.11.7"
  }
 },
 "nbformat": 4,
 "nbformat_minor": 2
}
